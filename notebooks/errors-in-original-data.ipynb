{
 "cells": [
  {
   "cell_type": "markdown",
   "metadata": {},
   "source": [
    "# Errors in the original data\n",
    "\n",
    "This notebook shows which entries of the table printed in Thurstone's original paper are problematic."
   ]
  },
  {
   "cell_type": "code",
   "execution_count": 1,
   "metadata": {
    "collapsed": true
   },
   "outputs": [],
   "source": [
    "import numpy as np"
   ]
  },
  {
   "cell_type": "code",
   "execution_count": 2,
   "metadata": {},
   "outputs": [
    {
     "name": "stdout",
     "output_type": "stream",
     "text": [
      "Adultery vs. Assault and battery:\n",
      "  242 + 757 = 999\n",
      "Arson vs. Homicide:\n",
      "  17 + 83 = 100\n",
      "Arson vs. Libel:\n",
      "  144 + 855 = 999\n",
      "Assault and battery vs. Homicide:\n",
      "  70 + 30 = 100\n",
      "Counterfeiting vs. Perjury:\n",
      "  532 + 467 = 999\n"
     ]
    }
   ],
   "source": [
    "mat = np.loadtxt(\"../ccdata-original.csv\", delimiter=\",\", dtype=int)\n",
    "n = mat.shape[0]\n",
    "\n",
    "with open(\"../labels.txt\") as f:\n",
    "    labels = list(line.strip() for line in f)\n",
    "\n",
    "for i in range(n):\n",
    "    for j in range(i + 1, n):\n",
    "        tot = mat[i, j] + mat[j, i]\n",
    "        if tot != 1000:\n",
    "            print(\"{} vs. {}:\".format(labels[i], labels[j]))\n",
    "            print(\"  {} + {} = {}\".format(mat[i, j], mat[j, i], tot))"
   ]
  }
 ],
 "metadata": {
  "kernelspec": {
   "display_name": "Python 3",
   "language": "python",
   "name": "python3"
  },
  "language_info": {
   "codemirror_mode": {
    "name": "ipython",
    "version": 3
   },
   "file_extension": ".py",
   "mimetype": "text/x-python",
   "name": "python",
   "nbconvert_exporter": "python",
   "pygments_lexer": "ipython3",
   "version": "3.5.1"
  }
 },
 "nbformat": 4,
 "nbformat_minor": 2
}
